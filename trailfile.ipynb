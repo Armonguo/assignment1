{
 "cells": [
  {
   "cell_type": "markdown",
   "metadata": {
    "slideshow": {
     "slide_type": "slide"
    }
   },
   "source": [
    "\n",
    "# Problem 1: Follow an algorithm\n",
    "\n",
    "## skills that want to acquire\n",
    "\n",
    "* Web scraping (most interested)\n",
    "* set my own database\n",
    "* use the code to do some design like a small game, painting or maybe something others\n",
    "\n",
    "# Problem 2: Write a simple Python program\n",
    "\n",
    "## input and out put\n",
    " \n",
    "```python \n",
    "print(\"who wrote the sentence:Even in the pursuit of the good people perplexed, but eventually realized that there is a right path?\")\n",
    "name = input()\n",
    "if name == \"Johann Wolfgang von Goethe\":\n",
    "    print(\"True\")\n",
    "elif name == \"Goethe\":\n",
    "    print(\"true\")   \n",
    "else:\n",
    "    print(\"sorry, the answer is Johann Wolfgang von Goethe\")\n",
    "```\n",
    "# Problem 3: Submit the assignment\n",
    "\n",
    "Yep, if your can see it, I guess I made it. \n"
   ]
  },
  {
   "cell_type": "code",
   "execution_count": null,
   "metadata": {
    "collapsed": false,
    "slideshow": {
     "slide_type": "slide"
    }
   },
   "outputs": [
    {
     "name": "stdout",
     "output_type": "stream",
     "text": [
      "who wrote the sentence:Even in the pursuit of the good people perplexed, but eventually realized that there is a right path?\n"
     ]
    }
   ],
   "source": [
    "print(\"who wrote the sentence:Even in the pursuit of the good people perplexed, but eventually realized that there is a right path?\")\n",
    "name = input()\n",
    "if name == \"Johann Wolfgang von Goethe\":\n",
    "    print(\"True\")\n",
    "elif name == \"Goethe\":\n",
    "    print(\"true\")   \n",
    "else:\n",
    "    print(\"sorry, the answer is Johann Wolfgang von Goethe\")"
   ]
  },
  {
   "cell_type": "code",
   "execution_count": 1,
   "metadata": {
    "collapsed": false,
    "slideshow": {
     "slide_type": "slide"
    }
   },
   "outputs": [
    {
     "ename": "SyntaxError",
     "evalue": "invalid syntax (<ipython-input-1-c5296ed1d42b>, line 1)",
     "output_type": "error",
     "traceback": [
      "\u001b[1;36m  File \u001b[1;32m\"<ipython-input-1-c5296ed1d42b>\"\u001b[1;36m, line \u001b[1;32m1\u001b[0m\n\u001b[1;33m    hello world\u001b[0m\n\u001b[1;37m              ^\u001b[0m\n\u001b[1;31mSyntaxError\u001b[0m\u001b[1;31m:\u001b[0m invalid syntax\n"
     ]
    }
   ],
   "source": [
    "hello world\n",
    "\n",
    "donknow what to say \n",
    "\n",
    "# Problem 1: Follow an algorithm\n",
    "\n",
    "## skills that want to acquire\n",
    "\n",
    "* Web scraping (most interested)\n",
    "* set my own database\n",
    "* use the code to do some design like a small game, painting or maybe something others\n",
    "\n",
    "# Problem 2: Write a simple Python program\n",
    "\n",
    "## input and out put\n",
    " \n",
    "```python \n",
    "print(\"who wrote the sentence:Even in the pursuit of the good people perplexed, but eventually realized that there is a right path?\")\n",
    "name = input()\n",
    "if name == \"Johann Wolfgang von Goethe\":\n",
    "    print(\"True\")\n",
    "elif name == \"Goethe\":\n",
    "    print(\"true\")   \n",
    "else:\n",
    "    print(\"sorry, the answer is Johann Wolfgang von Goethe\")\n",
    "```\n",
    "\n"
   ]
  },
  {
   "cell_type": "code",
   "execution_count": null,
   "metadata": {
    "collapsed": true,
    "slideshow": {
     "slide_type": "slide"
    }
   },
   "outputs": [],
   "source": [
    "# Problem 3: Submit the assignment\n",
    "\n",
    "Yep, if your can see it, I guess I made it. \n"
   ]
  },
  {
   "cell_type": "code",
   "execution_count": 11,
   "metadata": {
    "collapsed": true
   },
   "outputs": [],
   "source": [
    "class booksystem(object): \n",
    "    \n",
    "    def __init__(self, customersID, ProdudtsID,Amount,singleprice):\n",
    "        'Creates an customers with books he bought.'\n",
    "        self.customersID = customersID\n",
    "        self.ProdudtsID = ProdudtsID\n",
    "        self.Amount = Amount \n",
    "        self.singleprice = singleprice\n",
    "\n",
    "    def get_customersID(self):\n",
    "        return self.customersID\n",
    "\n",
    "    def get_ProdudtsID(self):\n",
    "        return  self.ProdudtsID\n",
    "\n",
    "    def get_totalprice(self):\n",
    "        return self.singleprice * self.Amount\n",
    "  \n"
   ]
  },
  {
   "cell_type": "code",
   "execution_count": null,
   "metadata": {
    "collapsed": true
   },
   "outputs": [],
   "source": [
    "#Trini's answer\n",
    "\n",
    "# Exercise 1: Work with the person next to you to design \n",
    "# classes to manage the products, customers, and purchase \n",
    "# orders for an online book store such as amazon.com. \n",
    "# Outline the data attributes and useful methods for \n",
    "# each class. You can discuss and create the outline together. \n",
    "\n",
    "class booksystem(object):\n",
    "        \n",
    "    def __init__(self, costumerID, amount, product, singleprice):\n",
    "        'Creates a costumer ID with the books he bought.'\n",
    "        self.costumerID = costumerID\n",
    "        self.last_amount = amount\n",
    "        self.last_product = product\n",
    "        self.single_price = singleprice\n",
    "    \n",
    "    def get_constumerID(self):\n",
    "        return self.costumerID\n",
    "    \n",
    "    def get_lastpurchase(self):\n",
    "         return self.last_product\n",
    "    \n",
    "    def get_totalprice(self):\n",
    "         return self.single_price *self.last_amount\n",
    "        \n",
    "p1=booksystem(123,2,3,4)\n",
    "p1.get_totalprice()"
   ]
  },
  {
   "cell_type": "code",
   "execution_count": 19,
   "metadata": {
    "collapsed": false
   },
   "outputs": [
    {
     "data": {
      "text/plain": [
       "3"
      ]
     },
     "execution_count": 19,
     "metadata": {},
     "output_type": "execute_result"
    }
   ],
   "source": [
    "\n",
    "p1= booksystem(123,23,1,3)\n",
    "p1.get_totalprice()"
   ]
  },
  {
   "cell_type": "code",
   "execution_count": 18,
   "metadata": {
    "collapsed": false
   },
   "outputs": [
    {
     "data": {
      "text/plain": [
       "23"
      ]
     },
     "execution_count": 18,
     "metadata": {},
     "output_type": "execute_result"
    }
   ],
   "source": [
    "p1.get_ProdudtsID()"
   ]
  }
 ],
 "metadata": {
  "celltoolbar": "Slideshow",
  "kernelspec": {
   "display_name": "Python 3",
   "language": "python",
   "name": "python3"
  },
  "language_info": {
   "codemirror_mode": {
    "name": "ipython",
    "version": 3
   },
   "file_extension": ".py",
   "mimetype": "text/x-python",
   "name": "python",
   "nbconvert_exporter": "python",
   "pygments_lexer": "ipython3",
   "version": "3.6.0"
  }
 },
 "nbformat": 4,
 "nbformat_minor": 2
}
